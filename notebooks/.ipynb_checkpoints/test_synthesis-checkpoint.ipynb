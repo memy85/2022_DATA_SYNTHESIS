{
 "cells": [
  {
   "cell_type": "markdown",
   "id": "167d09e5-f9f1-4414-9a9e-75389bd47271",
   "metadata": {},
   "source": [
    "# Test current research in data synthesis\n",
    "## Things to consider, \n",
    "- separate database\n",
    "- time series data : does it create timely multivariable data?"
   ]
  },
  {
   "cell_type": "code",
   "execution_count": 6,
   "id": "501e928c-94a0-4dc8-b89e-8da37fa6f42e",
   "metadata": {
    "tags": []
   },
   "outputs": [],
   "source": [
    "import os, sys\n",
    "from pathlib import Path\n",
    "\n",
    "project_path = Path().cwd().parent\n",
    "os.sys.path.append(project_path.as_posix())"
   ]
  },
  {
   "cell_type": "code",
   "execution_count": 1,
   "id": "56824e95-85db-43d2-94ed-00f3f9a38509",
   "metadata": {
    "tags": []
   },
   "outputs": [
    {
     "ename": "ModuleNotFoundError",
     "evalue": "No module named 'src'",
     "output_type": "error",
     "traceback": [
      "\u001b[0;31m---------------------------------------------------------------------------\u001b[0m",
      "\u001b[0;31mModuleNotFoundError\u001b[0m                       Traceback (most recent call last)",
      "Input \u001b[0;32mIn [1]\u001b[0m, in \u001b[0;36m<cell line: 1>\u001b[0;34m()\u001b[0m\n\u001b[0;32m----> 1\u001b[0m \u001b[38;5;28;01mfrom\u001b[39;00m \u001b[38;5;21;01msrc\u001b[39;00m\u001b[38;5;21;01m.\u001b[39;00m\u001b[38;5;21;01mMyModule\u001b[39;00m\u001b[38;5;21;01m.\u001b[39;00m\u001b[38;5;21;01mutils\u001b[39;00m \u001b[38;5;28;01mimport\u001b[39;00m \u001b[38;5;241m*\u001b[39m\n\u001b[1;32m      3\u001b[0m config \u001b[38;5;241m=\u001b[39m load_config()\n\u001b[1;32m      5\u001b[0m file_names \u001b[38;5;241m=\u001b[39m config[\u001b[38;5;124m'\u001b[39m\u001b[38;5;124mlung_file_name\u001b[39m\u001b[38;5;124m'\u001b[39m]\n",
      "\u001b[0;31mModuleNotFoundError\u001b[0m: No module named 'src'"
     ]
    }
   ],
   "source": [
    "from src.MyModule.utils import *\n",
    "import pandas as pd\n",
    "\n",
    "config = load_config()\n",
    "\n",
    "file_names = config['lung_file_name']\n",
    "\n",
    "def load_raw_file(file_name):\n",
    "    data_path = project_path.joinpath('data/raw')\n",
    "    file_path = data_path.joinpath(file_name)\n",
    "    \n",
    "    extension = check_extension(file_name)\n",
    "    \n",
    "    if extension == 'xlsx' : \n",
    "        return pd.read_excel(file_path)\n",
    "    \n",
    "    elif extension == 'csv' : \n",
    "        return pd.read_csv(file_path)\n",
    "    \n",
    "    \n",
    "    pd"
   ]
  },
  {
   "cell_type": "code",
   "execution_count": null,
   "id": "3c237cf8-621e-4275-bb61-6aa347189061",
   "metadata": {},
   "outputs": [],
   "source": [
    "\n"
   ]
  }
 ],
 "metadata": {
  "kernelspec": {
   "display_name": "Python 3 (ipykernel)",
   "language": "python",
   "name": "python3"
  },
  "language_info": {
   "codemirror_mode": {
    "name": "ipython",
    "version": 3
   },
   "file_extension": ".py",
   "mimetype": "text/x-python",
   "name": "python",
   "nbconvert_exporter": "python",
   "pygments_lexer": "ipython3",
   "version": "3.9.10"
  }
 },
 "nbformat": 4,
 "nbformat_minor": 5
}
