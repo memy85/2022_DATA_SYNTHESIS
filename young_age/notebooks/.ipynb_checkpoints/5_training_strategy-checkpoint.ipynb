{
 "cells": [
  {
   "cell_type": "code",
   "execution_count": 22,
   "id": "da514197",
   "metadata": {},
   "outputs": [],
   "source": [
    "import os, sys\n",
    "from pathlib import Path\n",
    "\n",
    "project_path = Path().cwd().parents[0]\n",
    "input_path = project_path.joinpath(\"data/processed/4_results/\")\n",
    "figure_path = project_path.joinpath(\"figures\")"
   ]
  },
  {
   "cell_type": "code",
   "execution_count": 23,
   "id": "4919347f",
   "metadata": {},
   "outputs": [],
   "source": [
    "import pandas as pd\n",
    "training_strategy_results = input_path.joinpath('training_strategy.csv')\n",
    "df = pd.read_csv(training_strategy_results)"
   ]
  }
 ],
 "metadata": {
  "kernelspec": {
   "display_name": "synthetic_data",
   "language": "python",
   "name": "synthetic_data"
  },
  "language_info": {
   "codemirror_mode": {
    "name": "ipython",
    "version": 3
   },
   "file_extension": ".py",
   "mimetype": "text/x-python",
   "name": "python",
   "nbconvert_exporter": "python",
   "pygments_lexer": "ipython3",
   "version": "3.8.5"
  }
 },
 "nbformat": 4,
 "nbformat_minor": 5
}
