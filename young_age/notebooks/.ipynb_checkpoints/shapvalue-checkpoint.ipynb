{
 "cells": [
  {
   "cell_type": "code",
   "execution_count": 1,
   "id": "afb07921-37ae-445a-a56a-7c74d8d4a93a",
   "metadata": {
    "tags": []
   },
   "outputs": [],
   "source": [
    "import os, sys\n",
    "from pathlib import Path\n",
    "sys.version\n",
    "\n",
    "os.sys.path.append(Path().cwd().parent.as_posix())"
   ]
  },
  {
   "cell_type": "code",
   "execution_count": 2,
   "id": "4ca23d58-8675-49ff-9dcf-7e090e31ecc6",
   "metadata": {
    "tags": []
   },
   "outputs": [
    {
     "data": {
      "text/plain": [
       "[0, 0.1, 1, 10, 100, 1000, 10000]"
      ]
     },
     "execution_count": 2,
     "metadata": {},
     "output_type": "execute_result"
    }
   ],
   "source": [
    "from src.MyModule.utils import *\n",
    "\n",
    "config = load_config()\n",
    "config['epsilon']"
   ]
  },
  {
   "cell_type": "code",
   "execution_count": 60,
   "id": "a9a5d0cb-dd82-4eae-b9c7-7cfb3353c1fe",
   "metadata": {
    "tags": []
   },
   "outputs": [],
   "source": [
    "from typing import Tuple, List\n",
    "import numpy as np\n",
    "import pandas as pd\n",
    "import matplotlib.pyplot as plt\n",
    "import matplotlib\n",
    "import shap"
   ]
  },
  {
   "cell_type": "code",
   "execution_count": 61,
   "id": "06ef689b-1791-4cd7-be04-8ae313b6f762",
   "metadata": {
    "tags": []
   },
   "outputs": [],
   "source": [
    "result_path = get_path('data/processed/4_results/shap_values')\n",
    "figure_path = get_path('figures')\n",
    "\n",
    "#%%\n",
    "def load_shap_value(model_name, epsilon, age) :\n",
    "\n",
    "    shap_path = result_path.joinpath(f\"{model_name}_{age}_{epsilon}.pkl\")\n",
    "    with open(shap_path, 'rb') as f:\n",
    "        shap_values = pickle.load(f)\n",
    "    return shap_values\n",
    "\n",
    "def load_test_data() :\n",
    "    test_data_path = get_path('data/processed/1_preprocess/test_50.pkl')\n",
    "    test = pd.read_pickle(test_data_path)\n",
    "\n",
    "    test_x = test.drop(['DEAD','DEAD_DIFF','PT_SBST_NO','OVR_SURV'], axis=1)\n",
    "    test_y = test['DEAD']\n",
    "\n",
    "    return test_x\n",
    "\n",
    "testD = load_test_data()\n",
    "\n",
    "#%%\n",
    "shapValues = [load_shap_value(\"DecisionTree\", eps, 50)[0].mean(axis=0) for eps in config['epsilon']]\n",
    "shapvalue = load_shap_value(\"DecisionTree\", 0.1, 50)"
   ]
  },
  {
   "cell_type": "code",
   "execution_count": 69,
   "id": "12c68162-4241-45df-8f44-522a0dc40ffe",
   "metadata": {
    "tags": []
   },
   "outputs": [],
   "source": [
    "a = testD.fillna(999).values"
   ]
  },
  {
   "cell_type": "code",
   "execution_count": 70,
   "id": "f16325b1-82c2-4b19-ab68-797c96be5522",
   "metadata": {
    "tags": []
   },
   "outputs": [
    {
     "ename": "TypeError",
     "evalue": "only integer scalar arrays can be converted to a scalar index",
     "output_type": "error",
     "traceback": [
      "\u001b[0;31m---------------------------------------------------------------------------\u001b[0m",
      "\u001b[0;31mTypeError\u001b[0m                                 Traceback (most recent call last)",
      "Input \u001b[0;32mIn [70]\u001b[0m, in \u001b[0;36m<cell line: 1>\u001b[0;34m()\u001b[0m\n\u001b[0;32m----> 1\u001b[0m \u001b[43mshap\u001b[49m\u001b[38;5;241;43m.\u001b[39;49m\u001b[43msummary_plot\u001b[49m\u001b[43m(\u001b[49m\u001b[43mshapvalue\u001b[49m\u001b[43m,\u001b[49m\u001b[43m \u001b[49m\u001b[43ma\u001b[49m\u001b[43m)\u001b[49m\n",
      "File \u001b[0;32m~/.pyenv/versions/3.9.0/envs/synthetic_data/lib/python3.9/site-packages/shap/plots/_beeswarm.py:555\u001b[0m, in \u001b[0;36msummary_legacy\u001b[0;34m(shap_values, features, feature_names, max_display, plot_type, color, axis_color, title, alpha, show, sort, color_bar, plot_size, layered_violin_max_num_bins, class_names, class_inds, color_bar_label, cmap, auto_size_plot, use_log_scale)\u001b[0m\n\u001b[1;32m    551\u001b[0m proj_shap_values \u001b[38;5;241m=\u001b[39m shap_values[:, sort_inds[\u001b[38;5;241m0\u001b[39m], sort_inds]\n\u001b[1;32m    552\u001b[0m proj_shap_values[:, \u001b[38;5;241m1\u001b[39m:] \u001b[38;5;241m*\u001b[39m\u001b[38;5;241m=\u001b[39m \u001b[38;5;241m2\u001b[39m  \u001b[38;5;66;03m# because off diag effects are split in half\u001b[39;00m\n\u001b[1;32m    553\u001b[0m summary_legacy(\n\u001b[1;32m    554\u001b[0m     proj_shap_values, features[:, sort_inds] \u001b[38;5;28;01mif\u001b[39;00m features \u001b[38;5;129;01mis\u001b[39;00m \u001b[38;5;129;01mnot\u001b[39;00m \u001b[38;5;28;01mNone\u001b[39;00m \u001b[38;5;28;01melse\u001b[39;00m \u001b[38;5;28;01mNone\u001b[39;00m,\n\u001b[0;32m--> 555\u001b[0m     feature_names\u001b[38;5;241m=\u001b[39m\u001b[43mfeature_names\u001b[49m\u001b[43m[\u001b[49m\u001b[43msort_inds\u001b[49m\u001b[43m]\u001b[49m,\n\u001b[1;32m    556\u001b[0m     sort\u001b[38;5;241m=\u001b[39m\u001b[38;5;28;01mFalse\u001b[39;00m, show\u001b[38;5;241m=\u001b[39m\u001b[38;5;28;01mFalse\u001b[39;00m, color_bar\u001b[38;5;241m=\u001b[39m\u001b[38;5;28;01mFalse\u001b[39;00m,\n\u001b[1;32m    557\u001b[0m     plot_size\u001b[38;5;241m=\u001b[39m\u001b[38;5;28;01mNone\u001b[39;00m,\n\u001b[1;32m    558\u001b[0m     max_display\u001b[38;5;241m=\u001b[39mmax_display\n\u001b[1;32m    559\u001b[0m )\n\u001b[1;32m    560\u001b[0m pl\u001b[38;5;241m.\u001b[39mxlim((slow, shigh))\n\u001b[1;32m    561\u001b[0m pl\u001b[38;5;241m.\u001b[39mxlabel(\u001b[38;5;124m\"\u001b[39m\u001b[38;5;124m\"\u001b[39m)\n",
      "\u001b[0;31mTypeError\u001b[0m: only integer scalar arrays can be converted to a scalar index"
     ]
    },
    {
     "data": {
      "image/png": "[encoded data removed]",
      "text/plain": [
       "<Figure size 828x475.2 with 1 Axes>"
      ]
     },
     "metadata": {
      "needs_background": "light"
     },
     "output_type": "display_data"
    }
   ],
   "source": [
    "shap.summary_plot(shapvalue, a)"
   ]
  },
  {
   "cell_type": "code",
   "execution_count": 55,
   "id": "5f914ced-4d91-4215-bf5e-c73dd754c9d3",
   "metadata": {
    "tags": []
   },
   "outputs": [
    {
     "data": {
      "text/plain": [
       ".values =\n",
       "array([[ 0.        ,  0.        ],\n",
       "       [ 0.        ,  0.        ],\n",
       "       [ 0.        ,  0.        ],\n",
       "       [ 0.        ,  0.        ],\n",
       "       [-0.00027004,  0.00027004],\n",
       "       [ 0.        ,  0.        ],\n",
       "       [ 0.        ,  0.        ],\n",
       "       [ 0.        ,  0.        ],\n",
       "       [ 0.        ,  0.        ],\n",
       "       [ 0.        ,  0.        ],\n",
       "       [ 0.        ,  0.        ],\n",
       "       [ 0.        ,  0.        ],\n",
       "       [ 0.        ,  0.        ],\n",
       "       [ 0.        ,  0.        ],\n",
       "       [ 0.        ,  0.        ],\n",
       "       [ 0.        ,  0.        ],\n",
       "       [ 0.        ,  0.        ],\n",
       "       [ 0.        ,  0.        ],\n",
       "       [ 0.        ,  0.        ],\n",
       "       [ 0.        ,  0.        ],\n",
       "       [ 0.        ,  0.        ],\n",
       "       [ 0.        ,  0.        ],\n",
       "       [ 0.        ,  0.        ],\n",
       "       [ 0.        ,  0.        ],\n",
       "       [ 0.        ,  0.        ],\n",
       "       [ 0.        ,  0.        ],\n",
       "       [ 0.        ,  0.        ],\n",
       "       [ 0.        ,  0.        ],\n",
       "       [ 0.        ,  0.        ],\n",
       "       [ 0.        ,  0.        ],\n",
       "       [ 0.        ,  0.        ],\n",
       "       [ 0.        ,  0.        ],\n",
       "       [ 0.        ,  0.        ],\n",
       "       [ 0.        ,  0.        ],\n",
       "       [ 0.03489837, -0.03489837],\n",
       "       [ 0.        ,  0.        ],\n",
       "       [ 0.        ,  0.        ],\n",
       "       [ 0.        ,  0.        ],\n",
       "       [ 0.        ,  0.        ],\n",
       "       [ 0.        ,  0.        ],\n",
       "       [ 0.        ,  0.        ],\n",
       "       [ 0.03225646, -0.03225646],\n",
       "       [ 0.        ,  0.        ],\n",
       "       [ 0.        ,  0.        ],\n",
       "       [ 0.        ,  0.        ],\n",
       "       [ 0.        ,  0.        ],\n",
       "       [ 0.        ,  0.        ],\n",
       "       [ 0.        ,  0.        ],\n",
       "       [ 0.        ,  0.        ],\n",
       "       [ 0.        ,  0.        ],\n",
       "       [ 0.        ,  0.        ],\n",
       "       [ 0.        ,  0.        ],\n",
       "       [ 0.        ,  0.        ],\n",
       "       [ 0.        ,  0.        ],\n",
       "       [ 0.        ,  0.        ],\n",
       "       [ 0.        ,  0.        ],\n",
       "       [ 0.        ,  0.        ],\n",
       "       [ 0.        ,  0.        ],\n",
       "       [ 0.        ,  0.        ],\n",
       "       [ 0.        ,  0.        ],\n",
       "       [ 0.        ,  0.        ],\n",
       "       [ 0.        ,  0.        ],\n",
       "       [ 0.        ,  0.        ],\n",
       "       [ 0.        ,  0.        ],\n",
       "       [ 0.        ,  0.        ],\n",
       "       [ 0.        ,  0.        ],\n",
       "       [ 0.        ,  0.        ],\n",
       "       [ 0.        ,  0.        ],\n",
       "       [ 0.        ,  0.        ],\n",
       "       [ 0.        ,  0.        ],\n",
       "       [ 0.        ,  0.        ],\n",
       "       [ 0.        ,  0.        ],\n",
       "       [ 0.        ,  0.        ],\n",
       "       [ 0.        ,  0.        ],\n",
       "       [ 0.        ,  0.        ],\n",
       "       [ 0.        ,  0.        ],\n",
       "       [ 0.        ,  0.        ],\n",
       "       [ 0.        ,  0.        ],\n",
       "       [ 0.        ,  0.        ],\n",
       "       [ 0.        ,  0.        ],\n",
       "       [ 0.        ,  0.        ],\n",
       "       [ 0.        ,  0.        ]])\n",
       "\n",
       ".base_values =\n",
       "array([0.76164936, 0.23835064])\n",
       "\n",
       ".data =\n",
       "array([4.54183267e-01, 4.20438247e+01, 7.88844622e-01, 1.00796813e+00,\n",
       "       2.33067729e+00, 1.59362550e-01, 9.24015936e+02, 2.00119522e+01,\n",
       "       3.77689243e+00, 3.44940239e+01, 1.61752988e+00, 4.66135458e-01,\n",
       "       9.99000000e+02, 2.92565737e+02, 1.63705179e+02, 7.16430279e+02,\n",
       "       1.92689243e+02, 1.72470120e+02, 1.20318725e+00, 2.20318725e+00,\n",
       "       1.70119522e+00, 2.41035857e+00, 1.68525896e+00, 1.68525896e+00,\n",
       "       1.99203187e+00, 2.65338645e+00, 1.60159363e+00, 1.60159363e+00,\n",
       "       1.72111554e+00, 1.96812749e+00, 1.78884462e+00, 1.79282869e+00,\n",
       "       1.99601594e+00, 1.99203187e+00, 1.50478088e+01, 4.90059761e+02,\n",
       "       3.15936255e+00, 5.76916335e+02, 5.34944223e+02, 4.94764940e+02,\n",
       "       1.46135458e+01, 8.75816733e+02, 2.87250996e+00, 8.98689243e+02,\n",
       "       9.43243028e+02, 8.77011952e+02, 1.26653386e+01, 9.23561753e+02,\n",
       "       1.92031873e+00, 9.33414343e+02, 9.94378486e+02, 9.24007968e+02,\n",
       "       8.82470120e+00, 9.51390438e+02, 9.52191235e-01, 9.60390438e+02,\n",
       "       1.00380478e+03, 9.51749004e+02, 8.92828685e+00, 9.79175299e+02,\n",
       "       9.80079681e-01, 9.85501992e+02, 1.01086454e+03, 9.79482072e+02,\n",
       "       5.98007968e+00, 9.95039841e+02, 9.96015936e-01, 9.95689243e+02,\n",
       "       1.00105976e+03, 9.95047809e+02, 1.99601594e+00, 9.95043825e+02,\n",
       "       9.96015936e-01, 9.95075697e+02, 1.00175697e+03, 9.95023904e+02,\n",
       "       1.00000000e+00, 9.99000000e+02, 1.00000000e+00, 9.99000000e+02,\n",
       "       9.99000000e+02, 9.99000000e+02])"
      ]
     },
     "execution_count": 55,
     "metadata": {},
     "output_type": "execute_result"
    }
   ],
   "source": [
    "shapvalue.mean(axis=0)"
   ]
  },
  {
   "cell_type": "code",
   "execution_count": 34,
   "id": "2f38641a-f48e-4fa8-af14-b6b92ed1bec5",
   "metadata": {
    "tags": []
   },
   "outputs": [
    {
     "ename": "ValueError",
     "evalue": "DataFrame constructor not properly called!",
     "output_type": "error",
     "traceback": [
      "\u001b[0;31m---------------------------------------------------------------------------\u001b[0m",
      "\u001b[0;31mValueError\u001b[0m                                Traceback (most recent call last)",
      "Input \u001b[0;32mIn [34]\u001b[0m, in \u001b[0;36m<cell line: 1>\u001b[0;34m()\u001b[0m\n\u001b[0;32m----> 1\u001b[0m \u001b[43mpd\u001b[49m\u001b[38;5;241;43m.\u001b[39;49m\u001b[43mDataFrame\u001b[49m\u001b[43m(\u001b[49m\u001b[43mshapvalue\u001b[49m\u001b[38;5;241;43m.\u001b[39;49m\u001b[43mmean\u001b[49m\u001b[43m(\u001b[49m\u001b[43maxis\u001b[49m\u001b[38;5;241;43m=\u001b[39;49m\u001b[38;5;241;43m0\u001b[39;49m\u001b[43m)\u001b[49m\u001b[43m,\u001b[49m\u001b[43m \u001b[49m\u001b[43mcolumns\u001b[49m\u001b[43m)\u001b[49m\n",
      "File \u001b[0;32m~/.pyenv/versions/3.9.0/envs/synthetic_data/lib/python3.9/site-packages/pandas/core/frame.py:756\u001b[0m, in \u001b[0;36mDataFrame.__init__\u001b[0;34m(self, data, index, columns, dtype, copy)\u001b[0m\n\u001b[1;32m    753\u001b[0m \u001b[38;5;66;03m# For data is scalar\u001b[39;00m\n\u001b[1;32m    754\u001b[0m \u001b[38;5;28;01melse\u001b[39;00m:\n\u001b[1;32m    755\u001b[0m     \u001b[38;5;28;01mif\u001b[39;00m index \u001b[38;5;129;01mis\u001b[39;00m \u001b[38;5;28;01mNone\u001b[39;00m \u001b[38;5;129;01mor\u001b[39;00m columns \u001b[38;5;129;01mis\u001b[39;00m \u001b[38;5;28;01mNone\u001b[39;00m:\n\u001b[0;32m--> 756\u001b[0m         \u001b[38;5;28;01mraise\u001b[39;00m \u001b[38;5;167;01mValueError\u001b[39;00m(\u001b[38;5;124m\"\u001b[39m\u001b[38;5;124mDataFrame constructor not properly called!\u001b[39m\u001b[38;5;124m\"\u001b[39m)\n\u001b[1;32m    758\u001b[0m     \u001b[38;5;66;03m# Argument 1 to \"ensure_index\" has incompatible type \"Collection[Any]\";\u001b[39;00m\n\u001b[1;32m    759\u001b[0m     \u001b[38;5;66;03m# expected \"Union[Union[Union[ExtensionArray, ndarray],\u001b[39;00m\n\u001b[1;32m    760\u001b[0m     \u001b[38;5;66;03m# Index, Series], Sequence[Any]]\"\u001b[39;00m\n\u001b[1;32m    761\u001b[0m     index \u001b[38;5;241m=\u001b[39m ensure_index(index)  \u001b[38;5;66;03m# type: ignore[arg-type]\u001b[39;00m\n",
      "\u001b[0;31mValueError\u001b[0m: DataFrame constructor not properly called!"
     ]
    }
   ],
   "source": [
    "pd.DataFrame(shapvalue.mean(axis=0), columns)"
   ]
  },
  {
   "cell_type": "code",
   "execution_count": 5,
   "id": "33c4cdd2-f6b8-4007-9437-76ad3d3e5d4e",
   "metadata": {
    "tags": []
   },
   "outputs": [],
   "source": [
    "columns = testD.columns.tolist()"
   ]
  },
  {
   "cell_type": "code",
   "execution_count": 11,
   "id": "177aa77a-7e18-4fa1-a63f-8a0664da5bbe",
   "metadata": {
    "tags": []
   },
   "outputs": [],
   "source": [
    "def generate_shap_figure(\n",
    "        figsize: Tuple[float, float], \n",
    "        fontsize: float, \n",
    "        xlim: Tuple[float, float],\n",
    "        shap_values: List[np.ndarray], \n",
    "        columns: List[str] or np.ndarray,\n",
    "        top_limit: int = None, \n",
    "        sort_desc: bool = True, \n",
    "        save_file_name: str = None,\n",
    "    ):\n",
    "\n",
    "    '''\n",
    "    requires : figsize, fontsize, xlim, shap_values\n",
    "    '''\n",
    "\n",
    "    # matplotlib.use('TkAgg')\n",
    "    f = plt.figure(figsize=figsize)\n",
    "\n",
    "    for i, alphabet, icu, column, shap in zip(\n",
    "            [1, 2, 3, 4, 5, 6, 7], \n",
    "            ['a', 'b', 'c', 'd', 'e', 'f', 'g'], \n",
    "            ['$\\epsilon$ 0', '$\\epsilon$ 0.1', '$\\epsilon$ 1', '$\\epsilon$ 10', '$\\epsilon$ 100', '$\\epsilon$ 1,000', '$\\epsilon$ 10,000'],\n",
    "            columns,\n",
    "            shap_values):\n",
    "\n",
    "        plt.rcParams.update({\"axes.grid\": True, \"grid.color\": \"grey\"})\n",
    "        plt.rcParams['font.family'] = 'DeJavu Serif'\n",
    "        plt.rcParams['font.serif'] = ['Times New Roman']\n",
    "\n",
    "        ax = f.add_subplot(int(f'31{i}'))\n",
    "\n",
    "        if isinstance(columns, dict) :\n",
    "            column = columns[column]\n",
    "\n",
    "        df_tmp = pd.DataFrame(shap, column)\n",
    "\n",
    "        if sort_desc: df_tmp = df_tmp.sort_values(0, ascending=sort_desc)\n",
    "        if top_limit: df_tmp = df_tmp.iloc[:top_limit]\n",
    "\n",
    "        ax.barh(df_tmp.index.tolist(), df_tmp.values.reshape((-1)))\n",
    "        ax.set_title(f'({alphabet}) {icu}', fontsize=fontsize)\n",
    "\n",
    "        if (i == 3) or (i == 4):\n",
    "            ax.set_xlabel('mean absolute SHAP value', fontsize=fontsize)\n",
    "\n",
    "        else:\n",
    "            pass\n",
    "        ax.set_xlim(*xlim)\n",
    "        plt.setp(ax.get_xticklabels(), fontsize=fontsize - 3)\n",
    "        plt.setp(ax.get_yticklabels(), fontsize=fontsize - 3)\n",
    "\n",
    "    f.tight_layout()\n",
    "\n",
    "    if save_file_name:\n",
    "        plt.savefig(save_file_name, dpi=500)\n",
    "    else:\n",
    "        plt.show()"
   ]
  },
  {
   "cell_type": "code",
   "execution_count": 12,
   "id": "f4d2d20e-d1c4-493c-99e5-e00989eb0827",
   "metadata": {
    "tags": []
   },
   "outputs": [
    {
     "ename": "ValueError",
     "evalue": "DataFrame constructor not properly called!",
     "output_type": "error",
     "traceback": [
      "\u001b[0;31m---------------------------------------------------------------------------\u001b[0m",
      "\u001b[0;31mValueError\u001b[0m                                Traceback (most recent call last)",
      "Input \u001b[0;32mIn [12]\u001b[0m, in \u001b[0;36m<cell line: 1>\u001b[0;34m()\u001b[0m\n\u001b[0;32m----> 1\u001b[0m \u001b[43mgenerate_shap_figure\u001b[49m\u001b[43m(\u001b[49m\u001b[43m(\u001b[49m\u001b[38;5;241;43m8\u001b[39;49m\u001b[43m,\u001b[49m\u001b[38;5;241;43m6\u001b[39;49m\u001b[43m)\u001b[49m\u001b[43m,\u001b[49m\u001b[43m \u001b[49m\u001b[38;5;241;43m13\u001b[39;49m\u001b[43m,\u001b[49m\u001b[43m \u001b[49m\u001b[43mxlim\u001b[49m\u001b[43m \u001b[49m\u001b[38;5;241;43m=\u001b[39;49m\u001b[43m \u001b[49m\u001b[43m(\u001b[49m\u001b[38;5;241;43m0\u001b[39;49m\u001b[43m,\u001b[49m\u001b[43m \u001b[49m\u001b[38;5;241;43m0.1\u001b[39;49m\u001b[43m)\u001b[49m\u001b[43m,\u001b[49m\n\u001b[1;32m      2\u001b[0m \u001b[43m                     \u001b[49m\u001b[43mshap_values\u001b[49m\u001b[38;5;241;43m=\u001b[39;49m\u001b[43mshapValues\u001b[49m\u001b[43m,\u001b[49m\n\u001b[1;32m      3\u001b[0m \u001b[43m                     \u001b[49m\u001b[43mcolumns\u001b[49m\u001b[43m \u001b[49m\u001b[38;5;241;43m=\u001b[39;49m\u001b[43m \u001b[49m\u001b[43mcolumns\u001b[49m\u001b[43m,\u001b[49m\n\u001b[1;32m      4\u001b[0m \u001b[43m                     \u001b[49m\u001b[43msort_desc\u001b[49m\u001b[38;5;241;43m=\u001b[39;49m\u001b[38;5;28;43;01mTrue\u001b[39;49;00m\u001b[43m,\u001b[49m\n\u001b[1;32m      5\u001b[0m \u001b[43m                     \u001b[49m\u001b[43msave_file_name\u001b[49m\u001b[38;5;241;43m=\u001b[39;49m\u001b[38;5;28;43;01mFalse\u001b[39;49;00m\u001b[43m)\u001b[49m\n",
      "Input \u001b[0;32mIn [11]\u001b[0m, in \u001b[0;36mgenerate_shap_figure\u001b[0;34m(figsize, fontsize, xlim, shap_values, columns, top_limit, sort_desc, save_file_name)\u001b[0m\n\u001b[1;32m     32\u001b[0m \u001b[38;5;28;01mif\u001b[39;00m \u001b[38;5;28misinstance\u001b[39m(columns, \u001b[38;5;28mdict\u001b[39m) :\n\u001b[1;32m     33\u001b[0m     column \u001b[38;5;241m=\u001b[39m columns[column]\n\u001b[0;32m---> 35\u001b[0m df_tmp \u001b[38;5;241m=\u001b[39m \u001b[43mpd\u001b[49m\u001b[38;5;241;43m.\u001b[39;49m\u001b[43mDataFrame\u001b[49m\u001b[43m(\u001b[49m\u001b[43mshap\u001b[49m\u001b[43m,\u001b[49m\u001b[43m \u001b[49m\u001b[43mcolumn\u001b[49m\u001b[43m)\u001b[49m\n\u001b[1;32m     37\u001b[0m \u001b[38;5;28;01mif\u001b[39;00m sort_desc: df_tmp \u001b[38;5;241m=\u001b[39m df_tmp\u001b[38;5;241m.\u001b[39msort_values(\u001b[38;5;241m0\u001b[39m, ascending\u001b[38;5;241m=\u001b[39msort_desc)\n\u001b[1;32m     38\u001b[0m \u001b[38;5;28;01mif\u001b[39;00m top_limit: df_tmp \u001b[38;5;241m=\u001b[39m df_tmp\u001b[38;5;241m.\u001b[39miloc[:top_limit]\n",
      "File \u001b[0;32m~/.pyenv/versions/3.9.0/envs/synthetic_data/lib/python3.9/site-packages/pandas/core/frame.py:756\u001b[0m, in \u001b[0;36mDataFrame.__init__\u001b[0;34m(self, data, index, columns, dtype, copy)\u001b[0m\n\u001b[1;32m    753\u001b[0m \u001b[38;5;66;03m# For data is scalar\u001b[39;00m\n\u001b[1;32m    754\u001b[0m \u001b[38;5;28;01melse\u001b[39;00m:\n\u001b[1;32m    755\u001b[0m     \u001b[38;5;28;01mif\u001b[39;00m index \u001b[38;5;129;01mis\u001b[39;00m \u001b[38;5;28;01mNone\u001b[39;00m \u001b[38;5;129;01mor\u001b[39;00m columns \u001b[38;5;129;01mis\u001b[39;00m \u001b[38;5;28;01mNone\u001b[39;00m:\n\u001b[0;32m--> 756\u001b[0m         \u001b[38;5;28;01mraise\u001b[39;00m \u001b[38;5;167;01mValueError\u001b[39;00m(\u001b[38;5;124m\"\u001b[39m\u001b[38;5;124mDataFrame constructor not properly called!\u001b[39m\u001b[38;5;124m\"\u001b[39m)\n\u001b[1;32m    758\u001b[0m     \u001b[38;5;66;03m# Argument 1 to \"ensure_index\" has incompatible type \"Collection[Any]\";\u001b[39;00m\n\u001b[1;32m    759\u001b[0m     \u001b[38;5;66;03m# expected \"Union[Union[Union[ExtensionArray, ndarray],\u001b[39;00m\n\u001b[1;32m    760\u001b[0m     \u001b[38;5;66;03m# Index, Series], Sequence[Any]]\"\u001b[39;00m\n\u001b[1;32m    761\u001b[0m     index \u001b[38;5;241m=\u001b[39m ensure_index(index)  \u001b[38;5;66;03m# type: ignore[arg-type]\u001b[39;00m\n",
      "\u001b[0;31mValueError\u001b[0m: DataFrame constructor not properly called!"
     ]
    },
    {
     "data": {
      "image/png": "[encoded data removed]",
      "text/plain": [
       "<Figure size 576x432 with 1 Axes>"
      ]
     },
     "metadata": {
      "needs_background": "light"
     },
     "output_type": "display_data"
    }
   ],
   "source": [
    "generate_shap_figure((8,6), 13, xlim = (0, 0.1),\n",
    "                     shap_values=shapValues,\n",
    "                     columns = columns,\n",
    "                     sort_desc=True,\n",
    "                     save_file_name=False)"
   ]
  },
  {
   "cell_type": "code",
   "execution_count": 12,
   "id": "0e17b644-489a-45d6-886f-645bc2ca8952",
   "metadata": {
    "tags": []
   },
   "outputs": [],
   "source": [
    "def plot_example_run():\n",
    "\n",
    "    with open(dataPath.joinpath('processed/feature_book_eng.yaml'), 'rb') as f:\n",
    "        feature_book = yaml.load(f, Loader=yaml.FullLoader)\n",
    "\n",
    "    h_cols = feature_book['common_features']\n",
    "\n",
    "    v_cols = { \"hicu\" : h_cols + feature_book['hicu_specific'],\n",
    "              \"micu\" : h_cols + feature_book['micu_specific'],\n",
    "              \"sicu\" : h_cols + feature_book['sicu_specific'] }\n",
    "\n",
    "    clients = ['hicu', 'micu', 'sicu']\n",
    "\n",
    "    # load datas\n",
    "    client_datas = {client : create_train_valid_data(client) for client in clients}\n",
    "\n",
    "    # load models\n",
    "    horizontal_models = { client : load_model(client, vertical=False) for client in clients }\n",
    "    ppfl_models = { client : load_model(client, vertical=True) for client in clients }\n",
    "\n",
    "    # HFL MEAN ABSOLUTE SHAP\n",
    "    hfl_value_lst = [\n",
    "        generate_mean_shap_values(\n",
    "            model= horizontal_models[client], absolute=True,\n",
    "            init_common_inputs=client_datas[client]['init_common_inputs'],\n",
    "            test_common_inputs=client_datas[client]['test_common_inputs'],\n",
    "        ) for client in clients\n",
    "    ]\n",
    "\n",
    "    generate_shap_figure(\n",
    "        figsize=(6, 8), fontsize=13, xlim=(0., 0.1),\n",
    "        shap_values= hfl_value_lst, columns=[h_cols for i in range(0, len(clients))],\n",
    "        sort_desc=True, save_file_name=Path(figurePath, 'hfl_shap.png'),\n",
    "    )\n",
    "\n",
    "    # PPFL MEAN ABSOLUTE SHAP\n",
    "    ppfl_value_lst = [\n",
    "        generate_mean_shap_values(\n",
    "            model= ppfl_models[client],\n",
    "            init_common_inputs=client_datas[client]['init_common_inputs'],\n",
    "            init_vertical_inputs=client_datas[client]['init_vertical_inputs'],\n",
    "            test_common_inputs=client_datas[client]['test_common_inputs'],\n",
    "            test_vertical_inputs=client_datas[client]['test_vertical_inputs'],\n",
    "            absolute=True\n",
    "        ) for client in clients\n",
    "    ]\n",
    "\n",
    "    generate_shap_figure(\n",
    "        figsize=(6, 8), fontsize=13, xlim=(0., 0.008),\n",
    "        shap_values=ppfl_value_lst, columns=v_cols, top_limit=10,\n",
    "        sort_desc=True,  save_file_name=Path(figurePath, 'ppfl_shap.png')\n",
    "    )"
   ]
  },
  {
   "cell_type": "code",
   "execution_count": null,
   "id": "8c5d2914-99bb-490e-b395-4d947af6fa55",
   "metadata": {},
   "outputs": [],
   "source": []
  }
 ],
 "metadata": {
  "kernelspec": {
   "display_name": "Python 3 (ipykernel)",
   "language": "python",
   "name": "python3"
  },
  "language_info": {
   "codemirror_mode": {
    "name": "ipython",
    "version": 3
   },
   "file_extension": ".py",
   "mimetype": "text/x-python",
   "name": "python",
   "nbconvert_exporter": "python",
   "pygments_lexer": "ipython3",
   "version": "3.9.0"
  }
 },
 "nbformat": 4,
 "nbformat_minor": 5
}
