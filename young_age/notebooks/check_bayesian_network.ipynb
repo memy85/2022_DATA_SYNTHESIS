{
 "cells": [
  {
   "cell_type": "markdown",
   "id": "6dd76df4-03ea-4c6c-8ba1-a264011b0f3b",
   "metadata": {},
   "source": [
    "## Check Bayesian Network"
   ]
  },
  {
   "cell_type": "code",
   "execution_count": 10,
   "id": "f4fbab69-4141-451e-a8b5-414ffee0bbf6",
   "metadata": {
    "tags": []
   },
   "outputs": [],
   "source": [
    "import pandas as pd\n",
    "from pathlib import Path\n",
    "import json\n",
    "\n",
    "project_path = Path().cwd().parents[0]\n",
    "data_path = project_path.joinpath('data/processed/2_produce_data/')"
   ]
  },
  {
   "cell_type": "code",
   "execution_count": 11,
   "id": "873d2b83-7c69-4286-886c-5c8e3def5b9f",
   "metadata": {
    "tags": []
   },
   "outputs": [],
   "source": [
    "\n",
    "with open(data_path.joinpath('description_000_0_20.json'), 'r') as f:\n",
    "    description = json.load(f)\n"
   ]
  },
  {
   "cell_type": "code",
   "execution_count": 15,
   "id": "2dbd49ee-7945-40f3-8587-9beb85f3b03b",
   "metadata": {
    "tags": []
   },
   "outputs": [
    {
     "data": {
      "text/plain": [
       "{'REGN': [1.0],\n",
       " 'BSPT_SEX_CD': {'[0]': [0.5, 0.5]},\n",
       " 'BSPT_FRST_DIAG_NM': {'[0, 0]': [1.0, 0.0], '[1, 0]': [0.0, 1.0]},\n",
       " 'OVR_SURV': {'[0, 0]': [1.0, 0.0], '[1, 0]': [0.0, 1.0]},\n",
       " 'OPRT': {'[0, 0]': [0.0, 1.0], '[1, 0]': [1.0, 0.0]},\n",
       " 'SGPT': {'[0, 0]': [0.0, 1.0], '[1, 0]': [1.0, 0.0]},\n",
       " 'MLPT': {'[0, 0]': [0.0, 1.0], '[1, 0]': [1.0, 0.0]},\n",
       " 'BSPT_IDGN_AGE': {'[0, 0]': [1.0], '[1, 0]': [1.0]},\n",
       " 'BSPT_STAG_CLSF_CD': {'[0, 0]': [1.0], '[1, 0]': [1.0]},\n",
       " 'BSPT_STAG_VL': {'[0, 0]': [1.0], '[1, 0]': [1.0]},\n",
       " 'RLPS': {'[0, 0]': [1.0], '[1, 0]': [1.0]},\n",
       " 'DEAD': {'[0, 0]': [1.0], '[1, 0]': [1.0]},\n",
       " 'BPTH': {'[0, 0]': [1.0], '[1, 0]': [1.0]},\n",
       " 'IMPT': {'[0, 0]': [1.0], '[1, 0]': [1.0]}}"
      ]
     },
     "execution_count": 15,
     "metadata": {},
     "output_type": "execute_result"
    }
   ],
   "source": [
    "description['conditional_probabilities']"
   ]
  },
  {
   "cell_type": "code",
   "execution_count": 19,
   "id": "0c2540a1-76f0-4fd7-9351-e7ff04ac086b",
   "metadata": {
    "tags": []
   },
   "outputs": [
    {
     "data": {
      "text/plain": [
       "'REGN'"
      ]
     },
     "execution_count": 19,
     "metadata": {},
     "output_type": "execute_result"
    }
   ],
   "source": [
    "description['bayesian_network'][0][1][0]"
   ]
  }
 ],
 "metadata": {
  "kernelspec": {
   "display_name": "synthetic_data",
   "language": "python",
   "name": "synthetic_data"
  },
  "language_info": {
   "codemirror_mode": {
    "name": "ipython",
    "version": 3
   },
   "file_extension": ".py",
   "mimetype": "text/x-python",
   "name": "python",
   "nbconvert_exporter": "python",
   "pygments_lexer": "ipython3",
   "version": "3.8.16"
  }
 },
 "nbformat": 4,
 "nbformat_minor": 5
}
