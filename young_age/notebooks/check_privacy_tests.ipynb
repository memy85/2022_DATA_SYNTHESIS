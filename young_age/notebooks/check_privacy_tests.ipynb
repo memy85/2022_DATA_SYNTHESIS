{
 "cells": [
  {
   "cell_type": "code",
   "execution_count": 4,
   "id": "83de66b7-b2db-4a06-b90b-8f963a74c593",
   "metadata": {
    "tags": []
   },
   "outputs": [],
   "source": [
    "import os, sys\n",
    "from pathlib import Path\n",
    "\n",
    "os.sys.path.append(Path().cwd().parents[0].as_posix())"
   ]
  },
  {
   "cell_type": "code",
   "execution_count": 10,
   "id": "037d7b01-2b9b-4874-9c62-463c9c47635a",
   "metadata": {
    "tags": []
   },
   "outputs": [],
   "source": [
    "from src.MyModule.privacy_test import *\n",
    "from src.MyModule.utils import *"
   ]
  },
  {
   "cell_type": "code",
   "execution_count": null,
   "id": "dd45c78a-e75b-4b0a-b249-6b9ef551fda3",
   "metadata": {},
   "outputs": [],
   "source": []
  }
 ],
 "metadata": {
  "kernelspec": {
   "display_name": "Python 3 (ipykernel)",
   "language": "python",
   "name": "python3"
  },
  "language_info": {
   "codemirror_mode": {
    "name": "ipython",
    "version": 3
   },
   "file_extension": ".py",
   "mimetype": "text/x-python",
   "name": "python",
   "nbconvert_exporter": "python",
   "pygments_lexer": "ipython3",
   "version": "3.9.0"
  }
 },
 "nbformat": 4,
 "nbformat_minor": 5
}
