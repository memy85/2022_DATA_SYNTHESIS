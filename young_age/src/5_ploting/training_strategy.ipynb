{
 "cells": [
  {
   "cell_type": "code",
   "execution_count": 8,
   "id": "b02b2249-6b05-4fe3-a484-93a470953d4e",
   "metadata": {},
   "outputs": [],
   "source": [
    "import pandas as pd\n",
    "from pathlib import Path\n",
    "\n",
    "scores = pd.read_csv('/home/wonseok/projects/2022_DATA_SYNTHESIS/young_age/data/processed/4_results/training_strategy.csv')"
   ]
  },
  {
   "cell_type": "code",
   "execution_count": 9,
   "id": "b17938ae-b81b-4592-929f-d46bd998e350",
   "metadata": {},
   "outputs": [
    {
     "data": {
      "text/plain": [
       "PosixPath('/home/wonseok/projects/2022_DATA_SYNTHESIS/young_age/figures')"
      ]
     },
     "execution_count": 9,
     "metadata": {},
     "output_type": "execute_result"
    }
   ],
   "source": [
    "figure_path = Path().cwd().parents[1].joinpath('figures')\n",
    "figure_path"
   ]
  },
  {
   "cell_type": "code",
   "execution_count": 10,
   "id": "7423efdf-38d0-437e-8ae3-374a1b0e39b2",
   "metadata": {},
   "outputs": [],
   "source": [
    "# load ncc external\n",
    "import pandas as pd\n",
    "ncc_result = pd.read_csv('/home/wonseok/projects/2022_DATA_SYNTHESIS/young_age/data/processed/4_results/ncc_external_validation.csv')\n",
    "scores = ncc_result"
   ]
  },
  {
   "cell_type": "code",
   "execution_count": 11,
   "id": "351ca1bd",
   "metadata": {},
   "outputs": [],
   "source": [
    "score_by_case = []\n",
    "score_by_case.append(list(scores[scores['type']=='trtr']['auroc']))\n",
    "for t in ['tstr', 'trts', 'tsts']:\n",
    "    cond1 = scores['type']==t\n",
    "    cond2 = scores['epsilon']==10000\n",
    "    score_by_case.append(list(scores[cond1&cond2]['auroc']))"
   ]
  },
  {
   "cell_type": "code",
   "execution_count": null,
   "id": "bc2d4ee6-e62a-4435-bcf2-e2bf8129a04a",
   "metadata": {},
   "outputs": [],
   "source": [
    "import matplotlib.pyplot as plt\n",
    "import scienceplots\n",
    "import numpy as np\n",
    "\n",
    "plt.style.use(['science','grid','no-latex','vibrant'])\n",
    "plt.figure(figsize=(14,8),dpi=1000)\n",
    "\n",
    "colors = ['steelblue','lightcoral','tan']\n",
    "\n",
    "X1=[1,3,5,7]\n",
    "data1 = np.array(score_by_case).transpose()[0]\n",
    "plt.bar(X1, data1,width=0.4,label='Decision Tree', color=colors[0])\n",
    "plt.axhline(np.array(score_by_case).transpose()[0][0], 0.05, 0.95, linestyle='--',color=colors[0], linewidth=1.5)\n",
    "for i, v in enumerate(data1):\n",
    "    plt.text(X1[i], v, str(round(v,2)), ha='center', fontsize=11)\n",
    "\n",
    "\n",
    "X2=[1+0.5,3+0.5,5+0.5,7+0.5]\n",
    "data2 = np.array(score_by_case).transpose()[1]\n",
    "plt.bar(X2, data2,width=0.4,label='Random Forest',color = colors[1])\n",
    "plt.axhline(np.array(score_by_case).transpose()[1][0], 0.15, 0.95, color = colors[1] ,linestyle='--', linewidth=1.5)\n",
    "for i, v in enumerate(data2):\n",
    "    plt.text(X2[i], v, str(round(v,3)), ha='center', fontsize=11)\n",
    "\n",
    "\n",
    "X3=[1+1,3+1,5+1,7+1]\n",
    "data3 = np.array(score_by_case).transpose()[2]\n",
    "plt.bar(X3, data3,width=0.4,label='XGBoost',color = colors[2])\n",
    "plt.axhline(np.array(score_by_case).transpose()[2][0], 0.2, 0.95, color = colors[2],  linestyle='--', linewidth=1.5)\n",
    "for i, v in enumerate(data3):\n",
    "    plt.text(X3[i], v, str(round(v,2)), ha='center', fontsize=11)\n",
    "\n",
    "\n",
    "\n",
    "plt.legend(loc='upper right',bbox_to_anchor=(1.17, 1))\n",
    "ticklabel=['Train real Valid in real','Train syn Valid in real','Train syn Valid in syn','Train real Valid in syn']\n",
    "plt.xticks(X2,ticklabel, fontsize=11)\n",
    "\n",
    "plt.xlabel('Scenario',fontsize=14)\n",
    "plt.ylabel('AUC Score',fontsize=14)\n",
    "\n",
    "plt.yticks(np.arange(0,1.1,0.1))\n",
    "\n",
    "plt.title('Training Strategy results comparison($\\epsilon=10,000$)', fontsize=14)\n",
    "\n",
    "plt.savefig(figure_path.joinpath('training strategy_ncc.png'), dpi=500)\n",
    "plt.show()"
   ]
  },
  {
   "cell_type": "markdown",
   "id": "f0f76e34-5eba-40e7-b2e2-c8585364cb9c",
   "metadata": {},
   "source": [
    "## NCC 결과 \n",
    "- regimen 코드는 똑같을 것이다.\n",
    "- "
   ]
  },
  {
   "cell_type": "markdown",
   "id": "99257c7f-e009-4fe7-9c0b-6255add878d4",
   "metadata": {},
   "source": []
  },
  {
   "cell_type": "code",
   "execution_count": null,
   "id": "297e01ef-df31-43ce-84bb-35a899ac7aa9",
   "metadata": {},
   "outputs": [],
   "source": []
  }
 ],
 "metadata": {
  "kernelspec": {
   "display_name": "synthetic_data",
   "language": "python",
   "name": "synthetic_data"
  },
  "language_info": {
   "codemirror_mode": {
    "name": "ipython",
    "version": 3
   },
   "file_extension": ".py",
   "mimetype": "text/x-python",
   "name": "python",
   "nbconvert_exporter": "python",
   "pygments_lexer": "ipython3",
   "version": "3.8.16"
  }
 },
 "nbformat": 4,
 "nbformat_minor": 5
}
