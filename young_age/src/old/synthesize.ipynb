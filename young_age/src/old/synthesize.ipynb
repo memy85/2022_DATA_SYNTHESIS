{
 "cells": [
  {
   "cell_type": "code",
   "execution_count": 2,
   "metadata": {},
   "outputs": [],
   "source": [
    "import pandas as pd\n",
    "import numpy as np\n",
    "from DataSynthesizer.DataDescriber import DataDescriber\n",
    "from DataSynthesizer.DataGenerator import DataGenerator\n",
    "from DataSynthesizer.ModelInspector import ModelInspector\n",
    "from DataSynthesizer.lib.utils import read_json_file, display_bayesian_network\n",
    "import warnings\n",
    "\n",
    "warnings.filterwarnings(action='ignore')"
   ]
  },
  {
   "cell_type": "code",
   "execution_count": 3,
   "metadata": {},
   "outputs": [
    {
     "name": "stdout",
     "output_type": "stream",
     "text": [
      "================ Constructing Bayesian Network (BN) ================\n",
      "Adding ROOT SGPT\n",
      "Adding attribute DEAD_DIFF\n",
      "Adding attribute OPRT\n",
      "Adding attribute DEAD\n",
      "Adding attribute RLPS DIFF\n",
      "Adding attribute BSPT_STAG_VL\n",
      "Adding attribute BPTH\n",
      "Adding attribute RLPS\n",
      "Adding attribute REGN\n",
      "Adding attribute IMPT\n",
      "Adding attribute BSPT_FRST_DIAG_NM\n",
      "Adding attribute MLPT\n",
      "Adding attribute BSPT_IDGN_AGE\n",
      "Adding attribute OVR_SURV\n",
      "Adding attribute BSPT_STAG_CLSF_CD\n",
      "Adding attribute BSPT_SEX_CD\n",
      "========================== BN constructed ==========================\n"
     ]
    }
   ],
   "source": [
    "threshold_value = 800\n",
    "#categorical_attributes = cat\n",
    "cats = {cat : True for cat in list(pd.read_csv('/home/dogu86/young_age_colon_cancer/final_src/encoded_D0_to_syn.csv').columns)}\n",
    "candidate_keys = {'PT_SBST_NO': True}\n",
    "\n",
    "#epsilon = 100\n",
    "\n",
    "degree_of_bayesian_network = 2\n",
    "num_tuples_to_generate = len(pd.read_csv('/home/dogu86/young_age_colon_cancer/final_src/encoded_D0_to_syn.csv'))*5\n",
    "epsilons = [0,0,1,1,10,100,1000,10000]\n",
    "#for i in range(len(cut_df)):\n",
    "    # input dataset\n",
    "#input_data = 'cut_df/'+df_name[4]+'.csv'\n",
    "input_data = '/home/dogu86/young_age_colon_cancer/final_src/encoded_D0_to_syn.csv'\n",
    "\n",
    "describer = DataDescriber(category_threshold=threshold_value)\n",
    "#for epsilon in epsilons:\n",
    "epsilon = 10000\n",
    "describer.describe_dataset_in_correlated_attribute_mode(dataset_file=input_data,\n",
    "                                                        epsilon=epsilon,\n",
    "                                                        k=degree_of_bayesian_network,\n",
    "                                                        attribute_to_is_categorical=cats,\n",
    "                                                        attribute_to_is_candidate_key=candidate_keys)\n",
    "\n",
    "\n",
    "description_file = f'/home/dogu86/young_age_colon_cancer/final_data/description/description_mult_encoded_{epsilon}_degree2.json'\n",
    "synthetic_data = f'/home/dogu86/young_age_colon_cancer/final_data/synthetic/S0_mult_encoded_{epsilon}_degree2.csv'\n",
    "\n",
    "describer.save_dataset_description_to_file(description_file)    \n",
    "generator = DataGenerator()\n",
    "generator.generate_dataset_in_correlated_attribute_mode(num_tuples_to_generate, description_file)\n",
    "generator.save_synthetic_data(synthetic_data)"
   ]
  },
  {
   "cell_type": "code",
   "execution_count": null,
   "metadata": {},
   "outputs": [],
   "source": []
  }
 ],
 "metadata": {
  "kernelspec": {
   "display_name": "synthetic_data",
   "language": "python",
   "name": "python3"
  },
  "language_info": {
   "codemirror_mode": {
    "name": "ipython",
    "version": 3
   },
   "file_extension": ".py",
   "mimetype": "text/x-python",
   "name": "python",
   "nbconvert_exporter": "python",
   "pygments_lexer": "ipython3",
   "version": "3.8.5"
  },
  "orig_nbformat": 4,
  "vscode": {
   "interpreter": {
    "hash": "36c0ce3566596747d3c66a8f4346e8693c6a429c26d2935793cb8ba840ef6235"
   }
  }
 },
 "nbformat": 4,
 "nbformat_minor": 2
}
