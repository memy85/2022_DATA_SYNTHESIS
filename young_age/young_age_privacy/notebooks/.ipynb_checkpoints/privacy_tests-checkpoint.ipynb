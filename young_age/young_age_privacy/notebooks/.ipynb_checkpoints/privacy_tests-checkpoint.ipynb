{
 "cells": [
  {
   "cell_type": "code",
   "execution_count": 1,
   "id": "5d87b8cd-0b0d-4a68-b63f-93da3372468e",
   "metadata": {
    "tags": []
   },
   "outputs": [],
   "source": [
    "import os, sys\n",
    "import pandas as pd\n",
    "import numpy as np\n",
    "from pathlib import Path\n",
    "from sklearn.neighbors import KNeighborsClassifier\n",
    "\n",
    "os.sys.path.append(Path().cwd().parents[0].as_posix())"
   ]
  },
  {
   "cell_type": "code",
   "execution_count": 2,
   "id": "b1fd15ea-429c-4af2-862e-9c1ce61de8d1",
   "metadata": {
    "tags": []
   },
   "outputs": [
    {
     "name": "stdout",
     "output_type": "stream",
     "text": [
      " this is project path : /home/wonseok/projects/2022_DATA_SYNTHESIS/young_age_privacy/notebooks \n"
     ]
    }
   ],
   "source": [
    "from src.MyModule.utils import *\n",
    "from src.MyModule.privacy_test import MembershipInference, Reidentification, AttributeDisclosure\n",
    "\n",
    "# from src.MyModule.privacy_test import *"
   ]
  },
  {
   "cell_type": "code",
   "execution_count": 3,
   "id": "c08e7351-002e-4e2e-9b22-84274ba95add",
   "metadata": {
    "tags": []
   },
   "outputs": [],
   "source": [
    "age = 50\n",
    "config = load_config()"
   ]
  },
  {
   "cell_type": "code",
   "execution_count": 4,
   "id": "0bb29561-17b4-4e2f-aa95-92e5ebd2175e",
   "metadata": {},
   "outputs": [],
   "source": [
    "class Argument :\n",
    "    \n",
    "    def __init__(self, age, random_seed):\n",
    "        self.age = age\n",
    "        self.random_seed = random_seed\n",
    "        \n",
    "args = Argument(50, 0)"
   ]
  },
  {
   "cell_type": "code",
   "execution_count": 5,
   "id": "ed09ad28-6a25-4668-a5d0-a8850e54bce0",
   "metadata": {
    "tags": []
   },
   "outputs": [],
   "source": [
    "projectPath = Path(config['project_path'])"
   ]
  },
  {
   "cell_type": "code",
   "execution_count": 7,
   "id": "d03c8a35-4dfa-4330-8565-49b2fd4a4e7c",
   "metadata": {
    "tags": []
   },
   "outputs": [],
   "source": [
    "preprocessedDict = get_machine_learning_data(projectPath, age, 0)\n",
    "\n",
    "original = preprocessedDict['original']\n",
    "holdout = preprocessedDict['holdout']\n",
    "syntheticDict = preprocessedDict['synthetic_dict']"
   ]
  },
  {
   "cell_type": "markdown",
   "id": "c60929d1-18c9-411d-b611-87192b38eff5",
   "metadata": {},
   "source": [
    "## Modeling Testing with KNN"
   ]
  },
  {
   "cell_type": "code",
   "execution_count": 30,
   "id": "0641544c-043f-4ffc-973d-e79cea211c19",
   "metadata": {
    "tags": []
   },
   "outputs": [],
   "source": [
    "x1 = syntheticDict['epsilon0']\n",
    "y1 = np.array([1]*x1.shape[0])\n",
    "\n",
    "x2 = holdout.copy()\n",
    "y2 = np.array([0]*x2.shape[0])"
   ]
  },
  {
   "cell_type": "code",
   "execution_count": 36,
   "id": "980afeaf-9abc-4d35-8855-2f17542c80d1",
   "metadata": {
    "tags": []
   },
   "outputs": [],
   "source": [
    "model1 = KNeighborsClassifier()\n",
    "model2 = KNeighborsClassifier()"
   ]
  },
  {
   "cell_type": "code",
   "execution_count": 37,
   "id": "9d15bbea-0557-4cba-986b-5099513225fd",
   "metadata": {
    "tags": []
   },
   "outputs": [
    {
     "data": {
      "text/plain": [
       "KNeighborsClassifier()"
      ]
     },
     "execution_count": 37,
     "metadata": {},
     "output_type": "execute_result"
    }
   ],
   "source": [
    "model1.fit(x1, y1)\n",
    "model2.fit(x2, y2)"
   ]
  },
  {
   "cell_type": "code",
   "execution_count": 38,
   "id": "cb667e90-6ef7-4fc9-a2a9-2a1181cfddee",
   "metadata": {
    "tags": []
   },
   "outputs": [],
   "source": [
    "indice1 = model1.kneighbors(original, n_neighbors=1, return_distance=False)\n",
    "indice2 = model2.kneighbors(original, n_neighbors=1, return_distance=False)"
   ]
  },
  {
   "cell_type": "code",
   "execution_count": 40,
   "id": "2ecaae60-c48f-410e-9b93-3d5f0e64480d",
   "metadata": {
    "tags": []
   },
   "outputs": [
    {
     "data": {
      "text/plain": [
       "((626, 1), (626, 1))"
      ]
     },
     "execution_count": 40,
     "metadata": {},
     "output_type": "execute_result"
    }
   ],
   "source": [
    "indice1.shape, indice2.shape"
   ]
  },
  {
   "cell_type": "code",
   "execution_count": 45,
   "id": "ad152d4a-6ba9-44fc-ae3c-018fd26dbbb2",
   "metadata": {
    "tags": []
   },
   "outputs": [
    {
     "data": {
      "text/plain": [
       "array([[ True,  True, False]])"
      ]
     },
     "execution_count": 45,
     "metadata": {},
     "output_type": "execute_result"
    }
   ],
   "source": [
    "np.array([[1,2,3]]) == np.array([[1,2,1]])"
   ]
  },
  {
   "cell_type": "markdown",
   "id": "4018ea99-87f9-4bda-a86a-4938603442aa",
   "metadata": {},
   "source": [
    "## Membership Inference"
   ]
  },
  {
   "cell_type": "code",
   "execution_count": 8,
   "id": "74b78615-b98f-4328-9b37-577952ff3b72",
   "metadata": {
    "tags": []
   },
   "outputs": [],
   "source": [
    "syntheticSample = syntheticDict['epsilon0']"
   ]
  },
  {
   "cell_type": "code",
   "execution_count": 9,
   "id": "16f42797-6027-437f-8f55-0defe5c7494a",
   "metadata": {
    "tags": []
   },
   "outputs": [],
   "source": [
    "membInf = MembershipInference(original = original,\n",
    "                    holdout = holdout,\n",
    "                    synthetic = syntheticSample)"
   ]
  },
  {
   "cell_type": "code",
   "execution_count": 10,
   "id": "76923d2e-5755-4bd2-8b19-321e27be4766",
   "metadata": {
    "tags": []
   },
   "outputs": [
    {
     "data": {
      "text/plain": [
       "0.17192212777625446"
      ]
     },
     "execution_count": 10,
     "metadata": {},
     "output_type": "execute_result"
    }
   ],
   "source": [
    "membInf.infer()"
   ]
  },
  {
   "cell_type": "markdown",
   "id": "f56f4348-0331-42a3-ba18-220e08178337",
   "metadata": {},
   "source": [
    "## Reidentification"
   ]
  },
  {
   "cell_type": "code",
   "execution_count": 11,
   "id": "45b00818-3001-4f76-93e8-051e5b5b2d2a",
   "metadata": {
    "tags": []
   },
   "outputs": [],
   "source": [
    "syntheticSample = syntheticDict['epsilon0']"
   ]
  },
  {
   "cell_type": "code",
   "execution_count": 12,
   "id": "b2ff0fcf-6160-4e69-b6f8-c2be82bf8ed4",
   "metadata": {
    "tags": []
   },
   "outputs": [],
   "source": [
    "reIden = Reidentification(original=original,\n",
    "                          holdout = holdout,\n",
    "                          synthetic=syntheticSample,\n",
    "                          feature_split=0.5)"
   ]
  },
  {
   "cell_type": "code",
   "execution_count": 13,
   "id": "5cae5c1e-7cc0-4e50-9e9b-0f979e7862e3",
   "metadata": {
    "tags": []
   },
   "outputs": [
    {
     "data": {
      "text/plain": [
       "(array([0.01118211]), array([0.]))"
      ]
     },
     "execution_count": 13,
     "metadata": {},
     "output_type": "execute_result"
    }
   ],
   "source": [
    "reIden.infer()"
   ]
  },
  {
   "cell_type": "markdown",
   "id": "16331d9c-f38b-40d2-9eaa-86c71f22087d",
   "metadata": {},
   "source": [
    "## Attribute"
   ]
  },
  {
   "cell_type": "code",
   "execution_count": 8,
   "id": "cae0ea77-2518-469e-bde2-cf51c9f625ac",
   "metadata": {
    "tags": []
   },
   "outputs": [],
   "source": [
    "syntheticSample = syntheticDict['epsilon0']"
   ]
  },
  {
   "cell_type": "code",
   "execution_count": 19,
   "id": "0ac73994-ae95-4653-9b23-7a7f60614ed1",
   "metadata": {
    "tags": []
   },
   "outputs": [],
   "source": [
    "attDisc = AttributeDisclosure(original = original,\n",
    "                              synthetic = syntheticSample,\n",
    "                              sensitive_features=['BSPT_SEX_CD','BSPT_IDGN_AGE'])"
   ]
  },
  {
   "cell_type": "code",
   "execution_count": 20,
   "id": "e89648fe-b077-4af7-a922-931cd7b41212",
   "metadata": {
    "tags": []
   },
   "outputs": [
    {
     "name": "stdout",
     "output_type": "stream",
     "text": [
      "--------------------\n",
      "--------------------------infering for label : BSPT_SEX_CD----------------------\n",
      "------------------------inferring for original data ------------------------\n",
      "------------------------inferring for label : BSPT_SEX_CD-----------------------\n",
      "------------------------inferring for synthetic data -----------------------\n",
      "--------------------------infering for label : BSPT_IDGN_AGE----------------------\n",
      "------------------------inferring for original data ------------------------\n",
      "------------------------inferring for label : BSPT_IDGN_AGE-----------------------\n",
      "------------------------inferring for synthetic data -----------------------\n"
     ]
    }
   ],
   "source": [
    "answer = attDisc.infer()"
   ]
  },
  {
   "cell_type": "code",
   "execution_count": null,
   "id": "cb14a034-3ebf-43e7-b9c2-d15f3207d620",
   "metadata": {},
   "outputs": [],
   "source": [
    " reform = {(outerKey, innerKey): values for outerKey, innerDict in dictionary.items() for innerKey, values in innerDict.items()}"
   ]
  },
  {
   "cell_type": "code",
   "execution_count": 63,
   "id": "56158e61-8104-4082-a0e7-7ec62fc01229",
   "metadata": {
    "tags": []
   },
   "outputs": [],
   "source": [
    "a = {(outerkey, innerkey) : [round(values, 3)] for outerkey, innerDict in zip(['baseline','synthetic'], answer) for innerkey, values in innerDict.items()}"
   ]
  },
  {
   "cell_type": "code",
   "execution_count": 78,
   "id": "037524c3-3ae7-43e5-87c7-416661c968d8",
   "metadata": {
    "tags": []
   },
   "outputs": [],
   "source": [
    "b = pd.DataFrame(a).T.rename(columns = {0:'epsilon 0'})\n",
    "c = pd.DataFrame(a).T.rename(columns = {0:'epsilon 0.1'})"
   ]
  },
  {
   "cell_type": "code",
   "execution_count": 88,
   "id": "3e6f2936-cb31-4002-9f9a-e696e09cf0d9",
   "metadata": {
    "tags": []
   },
   "outputs": [
    {
     "data": {
      "text/html": [
       "<div>\n",
       "<style scoped>\n",
       "    .dataframe tbody tr th:only-of-type {\n",
       "        vertical-align: middle;\n",
       "    }\n",
       "\n",
       "    .dataframe tbody tr th {\n",
       "        vertical-align: top;\n",
       "    }\n",
       "\n",
       "    .dataframe thead th {\n",
       "        text-align: right;\n",
       "    }\n",
       "</style>\n",
       "<table border=\"1\" class=\"dataframe\">\n",
       "  <thead>\n",
       "    <tr style=\"text-align: right;\">\n",
       "      <th></th>\n",
       "      <th></th>\n",
       "      <th>epsilon 0</th>\n",
       "      <th>epsilon 0.1</th>\n",
       "    </tr>\n",
       "  </thead>\n",
       "  <tbody>\n",
       "    <tr>\n",
       "      <th rowspan=\"2\" valign=\"top\">baseline</th>\n",
       "      <th>BSPT_SEX_CD</th>\n",
       "      <td>0.541</td>\n",
       "      <td>0.541</td>\n",
       "    </tr>\n",
       "    <tr>\n",
       "      <th>BSPT_IDGN_AGE</th>\n",
       "      <td>0.082</td>\n",
       "      <td>0.082</td>\n",
       "    </tr>\n",
       "    <tr>\n",
       "      <th rowspan=\"2\" valign=\"top\">synthetic</th>\n",
       "      <th>BSPT_SEX_CD</th>\n",
       "      <td>0.613</td>\n",
       "      <td>0.613</td>\n",
       "    </tr>\n",
       "    <tr>\n",
       "      <th>BSPT_IDGN_AGE</th>\n",
       "      <td>0.116</td>\n",
       "      <td>0.116</td>\n",
       "    </tr>\n",
       "  </tbody>\n",
       "</table>\n",
       "</div>"
      ],
      "text/plain": [
       "                         epsilon 0  epsilon 0.1\n",
       "baseline  BSPT_SEX_CD        0.541        0.541\n",
       "          BSPT_IDGN_AGE      0.082        0.082\n",
       "synthetic BSPT_SEX_CD        0.613        0.613\n",
       "          BSPT_IDGN_AGE      0.116        0.116"
      ]
     },
     "execution_count": 88,
     "metadata": {},
     "output_type": "execute_result"
    }
   ],
   "source": [
    "pd.concat([b,c], axis=1)"
   ]
  },
  {
   "cell_type": "code",
   "execution_count": null,
   "id": "b5d2e974-f122-455e-82b0-c797950a9e80",
   "metadata": {},
   "outputs": [],
   "source": []
  }
 ],
 "metadata": {
  "kernelspec": {
   "display_name": "Python 3 (ipykernel)",
   "language": "python",
   "name": "python3"
  },
  "language_info": {
   "codemirror_mode": {
    "name": "ipython",
    "version": 3
   },
   "file_extension": ".py",
   "mimetype": "text/x-python",
   "name": "python",
   "nbconvert_exporter": "python",
   "pygments_lexer": "ipython3",
   "version": "3.9.0"
  }
 },
 "nbformat": 4,
 "nbformat_minor": 5
}
